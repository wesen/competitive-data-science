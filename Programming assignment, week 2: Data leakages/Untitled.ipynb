{
 "cells": [
  {
   "cell_type": "code",
   "execution_count": 11,
   "metadata": {},
   "outputs": [],
   "source": [
    "import numpy as np\n",
    "import pandas as pd \n",
    "import scipy.sparse\n",
    "\n",
    "import random"
   ]
  },
  {
   "cell_type": "code",
   "execution_count": 15,
   "metadata": {},
   "outputs": [],
   "source": [
    "imgs = np.arange(10000)\n",
    "randoms = np.random.uniform(size=10000)\n",
    "classes = np.zeros(imgs.shape[0])\n",
    "classes[randoms > 0.8] = 1\n",
    "class_imgs = {\n",
    "    0: imgs[np.where(classes == 0)],\n",
    "    1: imgs[np.where(classes == 1)]\n",
    "}\n"
   ]
  },
  {
   "cell_type": "code",
   "execution_count": 16,
   "metadata": {},
   "outputs": [
    {
     "data": {
      "text/plain": [
       "(array([ 0.,  1.]), array([8064, 1936]))"
      ]
     },
     "execution_count": 16,
     "metadata": {},
     "output_type": "execute_result"
    }
   ],
   "source": [
    "np.unique(classes, return_counts=True)"
   ]
  },
  {
   "cell_type": "code",
   "execution_count": 17,
   "metadata": {},
   "outputs": [
    {
     "data": {
      "text/plain": [
       "array([   0,    1,    3, ..., 9955, 9968, 9987])"
      ]
     },
     "execution_count": 17,
     "metadata": {},
     "output_type": "execute_result"
    }
   ],
   "source": [
    "imgs[np.where(classes == 1)]"
   ]
  },
  {
   "cell_type": "code",
   "execution_count": 22,
   "metadata": {},
   "outputs": [],
   "source": [
    "pairs = []\n",
    "\n",
    "def random_pair_of_class(cl):\n",
    "    imgs = class_imgs[cl]\n",
    "    return imgs[random.randint(0, len(imgs)-1)], imgs[random.randint(0, len(imgs)-1)]\n",
    "\n",
    "for i in range(int(14 * len(imgs) / 2)):\n",
    "    pairs.append(random_pair_of_class(0))\n",
    "    pairs.append(random_pair_of_class(1))\n",
    "\n",
    "pairs = np.array(pairs)"
   ]
  },
  {
   "cell_type": "code",
   "execution_count": 23,
   "metadata": {},
   "outputs": [
    {
     "data": {
      "text/plain": [
       "array([[1315, 6643],\n",
       "       [6465, 1870],\n",
       "       [2312, 8026],\n",
       "       ..., \n",
       "       [1870, 4794],\n",
       "       [8304, 3472],\n",
       "       [3838, 5860]])"
      ]
     },
     "execution_count": 23,
     "metadata": {},
     "output_type": "execute_result"
    }
   ],
   "source": [
    "pairs"
   ]
  },
  {
   "cell_type": "code",
   "execution_count": 24,
   "metadata": {},
   "outputs": [],
   "source": [
    "from scipy.sparse import coo_matrix\n",
    "\n",
    "mat_rows = pairs[:,0]\n",
    "mat_cols = pairs[:,1]"
   ]
  },
  {
   "cell_type": "code",
   "execution_count": 26,
   "metadata": {},
   "outputs": [
    {
     "data": {
      "text/plain": [
       "array([1315, 6465, 2312, ..., 1870, 8304, 3838])"
      ]
     },
     "execution_count": 26,
     "metadata": {},
     "output_type": "execute_result"
    }
   ],
   "source": [
    "mat_rows"
   ]
  },
  {
   "cell_type": "code",
   "execution_count": 27,
   "metadata": {},
   "outputs": [],
   "source": [
    "inc_mat = coo_matrix((np.ones(len(mat_cols)), (mat_rows, mat_cols))) + coo_matrix((np.ones(len(mat_cols)), (mat_cols, mat_rows)))\n",
    "inc_mat[inc_mat > 1] = 1"
   ]
  },
  {
   "cell_type": "code",
   "execution_count": 28,
   "metadata": {},
   "outputs": [
    {
     "data": {
      "text/plain": [
       "1.0"
      ]
     },
     "execution_count": 28,
     "metadata": {},
     "output_type": "execute_result"
    }
   ],
   "source": [
    "inc_mat.max()"
   ]
  },
  {
   "cell_type": "code",
   "execution_count": 29,
   "metadata": {},
   "outputs": [
    {
     "data": {
      "text/plain": [
       "277096.0"
      ]
     },
     "execution_count": 29,
     "metadata": {},
     "output_type": "execute_result"
    }
   ],
   "source": [
    "inc_mat.sum()"
   ]
  },
  {
   "cell_type": "code",
   "execution_count": 30,
   "metadata": {},
   "outputs": [
    {
     "data": {
      "text/plain": [
       "140000"
      ]
     },
     "execution_count": 30,
     "metadata": {},
     "output_type": "execute_result"
    }
   ],
   "source": [
    "len(pairs)"
   ]
  },
  {
   "cell_type": "code",
   "execution_count": 31,
   "metadata": {},
   "outputs": [],
   "source": [
    "inc_mat = inc_mat.tocsr()"
   ]
  },
  {
   "cell_type": "code",
   "execution_count": 32,
   "metadata": {},
   "outputs": [],
   "source": [
    "rows_first = inc_mat[pairs[:,0]]\n",
    "rows_second = inc_mat[pairs[:,1]]\n",
    "f = np.sum(rows_first.multiply(rows_second), axis=1)\n",
    "f = np.squeeze(np.asarray(f))"
   ]
  },
  {
   "cell_type": "code",
   "execution_count": 33,
   "metadata": {},
   "outputs": [
    {
     "data": {
      "text/plain": [
       "array([ 0.,  5.,  0., ...,  2.,  0.,  2.])"
      ]
     },
     "execution_count": 33,
     "metadata": {},
     "output_type": "execute_result"
    }
   ],
   "source": [
    "f"
   ]
  },
  {
   "cell_type": "code",
   "execution_count": 35,
   "metadata": {},
   "outputs": [
    {
     "name": "stdout",
     "output_type": "stream",
     "text": [
      "   0 72404\n",
      "   2 17576\n",
      "   1 16024\n",
      "   3 15232\n",
      "   4  9906\n",
      "   5  5250\n",
      "   6  2310\n",
      "   7   842\n",
      "   8   287\n",
      "   9    95\n",
      "  10    21\n",
      "  11     4\n",
      "  72     4\n",
      "  59     3\n",
      "  68     3\n",
      "  70     3\n",
      "  74     3\n",
      "  77     3\n",
      "  83     3\n",
      "  60     2\n",
      "  62     2\n",
      "  63     2\n",
      "  73     2\n",
      "  75     2\n",
      "  76     2\n",
      "  82     2\n",
      "  16     1\n",
      "  18     1\n",
      "  21     1\n",
      "  24     1\n",
      "  64     1\n",
      "  66     1\n",
      "  67     1\n",
      "  69     1\n",
      "  71     1\n",
      "  79     1\n",
      "  81     1\n",
      "  87     1\n",
      "  92     1\n"
     ]
    }
   ],
   "source": [
    "for i in sorted(list(zip(*np.unique(f, return_counts=True))), key=lambda x:x[1], reverse=True):\n",
    "   print(\"{:4d} {:5d}\".format(int(i[0]), i[1]))"
   ]
  },
  {
   "cell_type": "code",
   "execution_count": 47,
   "metadata": {},
   "outputs": [
    {
     "name": "stdout",
     "output_type": "stream",
     "text": [
      "  13 190000\n",
      "   0 163688\n",
      "   1 24452\n",
      "   2  1742\n",
      "   3    95\n",
      "   4     3\n",
      "  38     3\n",
      "  41     2\n",
      "  42     2\n",
      "  48     2\n",
      "  29     1\n",
      "  30     1\n",
      "  31     1\n",
      "  32     1\n",
      "  33     1\n",
      "  34     1\n",
      "  35     1\n",
      "  37     1\n",
      "  39     1\n",
      "  44     1\n",
      "  53     1\n"
     ]
    }
   ],
   "source": [
    "imgs = np.arange(10000)\n",
    "randoms = np.random.uniform(size=imgs.shape[0])\n",
    "classes = np.zeros(imgs.shape[0])\n",
    "classes[randoms > 0.999] = 1\n",
    "class_imgs = {\n",
    "    0: imgs[np.where(classes == 0)],\n",
    "    1: imgs[np.where(classes == 1)]\n",
    "}\n",
    "\n",
    "pairs = []\n",
    "\n",
    "def random_pair_of_class(cl):\n",
    "    imgs = class_imgs[cl]\n",
    "    return imgs[random.randint(0, len(imgs)-1)], imgs[random.randint(0, len(imgs)-1)]\n",
    "\n",
    "for i in range(int(380000 / 2)):\n",
    "    pairs.append(random_pair_of_class(0))\n",
    "    pairs.append(random_pair_of_class(1))\n",
    "\n",
    "pairs = np.array(pairs)\n",
    "\n",
    "from scipy.sparse import coo_matrix\n",
    "\n",
    "mat_rows = pairs[:,0]\n",
    "mat_cols = pairs[:,1]\n",
    "\n",
    "inc_mat = coo_matrix((np.ones(len(mat_cols)), (mat_rows, mat_cols))) + coo_matrix((np.ones(len(mat_cols)), (mat_cols, mat_rows)))\n",
    "inc_mat[inc_mat > 1] = 1\n",
    "\n",
    "rows_first = inc_mat[pairs[:,0]]\n",
    "rows_second = inc_mat[pairs[:,1]]\n",
    "f = np.sum(rows_first.multiply(rows_second), axis=1)\n",
    "f = np.squeeze(np.asarray(f))\n",
    "\n",
    "for i in sorted(list(zip(*np.unique(f, return_counts=True))), key=lambda x:x[1], reverse=True):\n",
    "   print(\"{:4d} {:5d}\".format(int(i[0]), i[1]))"
   ]
  },
  {
   "cell_type": "code",
   "execution_count": null,
   "metadata": {},
   "outputs": [],
   "source": []
  }
 ],
 "metadata": {
  "kernelspec": {
   "display_name": "Python 3",
   "language": "python",
   "name": "python3"
  },
  "language_info": {
   "codemirror_mode": {
    "name": "ipython",
    "version": 3
   },
   "file_extension": ".py",
   "mimetype": "text/x-python",
   "name": "python",
   "nbconvert_exporter": "python",
   "pygments_lexer": "ipython3",
   "version": "3.5.2"
  },
  "toc": {
   "nav_menu": {},
   "number_sections": true,
   "sideBar": true,
   "skip_h1_title": false,
   "toc_cell": false,
   "toc_position": {},
   "toc_section_display": "block",
   "toc_window_display": true
  }
 },
 "nbformat": 4,
 "nbformat_minor": 2
}
