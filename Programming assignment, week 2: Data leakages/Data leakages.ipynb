{
 "cells": [
  {
   "cell_type": "markdown",
   "metadata": {},
   "source": [
    "Version 1.0.0"
   ]
  },
  {
   "cell_type": "markdown",
   "metadata": {},
   "source": [
    "# Introduction"
   ]
  },
  {
   "cell_type": "markdown",
   "metadata": {},
   "source": [
    "In this programming assignment we will illustrate a very severe data leakage, that can often be found in competitions, where the pairs of object should be scored, e.g. predict $1$ if two objects belong to the same class and $0$ otherwise. \n",
    "\n",
    "The data in this assignment is taken from a real competition, and the funniest thing is that *we will not use training set at all* and achieve almost 100% accuracy score! We will just exploit the leakage.\n",
    "\n",
    "Now go through the notebook and complete the assignment."
   ]
  },
  {
   "cell_type": "code",
   "execution_count": 2,
   "metadata": {},
   "outputs": [],
   "source": [
    "import numpy as np\n",
    "import pandas as pd \n",
    "import scipy.sparse"
   ]
  },
  {
   "cell_type": "markdown",
   "metadata": {},
   "source": [
    "# Load the data"
   ]
  },
  {
   "cell_type": "markdown",
   "metadata": {},
   "source": [
    "Let's load the test data. Note, that we don't have any training data here, just test data. Moreover, *we will not even use any features* of test objects. All we need to solve this task is the file with the indices for the pairs, that we need to compare."
   ]
  },
  {
   "cell_type": "markdown",
   "metadata": {},
   "source": [
    "Let's load the data with test indices."
   ]
  },
  {
   "cell_type": "code",
   "execution_count": 3,
   "metadata": {},
   "outputs": [
    {
     "data": {
      "text/html": [
       "<div>\n",
       "<table border=\"1\" class=\"dataframe\">\n",
       "  <thead>\n",
       "    <tr style=\"text-align: right;\">\n",
       "      <th></th>\n",
       "      <th>pairId</th>\n",
       "      <th>FirstId</th>\n",
       "      <th>SecondId</th>\n",
       "    </tr>\n",
       "  </thead>\n",
       "  <tbody>\n",
       "    <tr>\n",
       "      <th>0</th>\n",
       "      <td>0</td>\n",
       "      <td>1427</td>\n",
       "      <td>8053</td>\n",
       "    </tr>\n",
       "    <tr>\n",
       "      <th>1</th>\n",
       "      <td>1</td>\n",
       "      <td>17044</td>\n",
       "      <td>7681</td>\n",
       "    </tr>\n",
       "    <tr>\n",
       "      <th>2</th>\n",
       "      <td>2</td>\n",
       "      <td>19237</td>\n",
       "      <td>20966</td>\n",
       "    </tr>\n",
       "    <tr>\n",
       "      <th>3</th>\n",
       "      <td>3</td>\n",
       "      <td>8005</td>\n",
       "      <td>20765</td>\n",
       "    </tr>\n",
       "    <tr>\n",
       "      <th>4</th>\n",
       "      <td>4</td>\n",
       "      <td>16837</td>\n",
       "      <td>599</td>\n",
       "    </tr>\n",
       "    <tr>\n",
       "      <th>5</th>\n",
       "      <td>5</td>\n",
       "      <td>3657</td>\n",
       "      <td>12504</td>\n",
       "    </tr>\n",
       "    <tr>\n",
       "      <th>6</th>\n",
       "      <td>6</td>\n",
       "      <td>2836</td>\n",
       "      <td>7582</td>\n",
       "    </tr>\n",
       "    <tr>\n",
       "      <th>7</th>\n",
       "      <td>7</td>\n",
       "      <td>6136</td>\n",
       "      <td>6111</td>\n",
       "    </tr>\n",
       "    <tr>\n",
       "      <th>8</th>\n",
       "      <td>8</td>\n",
       "      <td>23295</td>\n",
       "      <td>9817</td>\n",
       "    </tr>\n",
       "    <tr>\n",
       "      <th>9</th>\n",
       "      <td>9</td>\n",
       "      <td>6621</td>\n",
       "      <td>7672</td>\n",
       "    </tr>\n",
       "  </tbody>\n",
       "</table>\n",
       "</div>"
      ],
      "text/plain": [
       "   pairId  FirstId  SecondId\n",
       "0       0     1427      8053\n",
       "1       1    17044      7681\n",
       "2       2    19237     20966\n",
       "3       3     8005     20765\n",
       "4       4    16837       599\n",
       "5       5     3657     12504\n",
       "6       6     2836      7582\n",
       "7       7     6136      6111\n",
       "8       8    23295      9817\n",
       "9       9     6621      7672"
      ]
     },
     "execution_count": 3,
     "metadata": {},
     "output_type": "execute_result"
    }
   ],
   "source": [
    "test = pd.read_csv('../readonly/data_leakages_data/test_pairs.csv')\n",
    "test.head(10)"
   ]
  },
  {
   "cell_type": "markdown",
   "metadata": {},
   "source": [
    "For example, we can think that there is a test dataset of images, and each image is assigned a unique `Id` from $0$ to $N-1$ (N -- is the number of images). In the dataframe from above `FirstId` and `SecondId` point to these `Id`'s and define pairs, that we should compare: e.g. do both images in the pair belong to the same class or not. So, for example for the first row: if images with `Id=1427` and `Id=8053` belong to the same class, we should predict $1$, and $0$ otherwise. \n",
    "\n",
    "But in our case we don't really care about the images, and how exactly we compare the images (as long as comparator is binary).  "
   ]
  },
  {
   "cell_type": "markdown",
   "metadata": {},
   "source": [
    "**We suggest you to try to solve the puzzle yourself first.** You need to submit a `.csv` file with columns `pairId` and `Prediction` to the grader. The number of submissions allowed is made pretty huge to let you explore the data without worries. The returned score should be very close to $1$."
   ]
  },
  {
   "cell_type": "markdown",
   "metadata": {},
   "source": [
    "**If you do not want to think much** -- scroll down and follow the instructions below."
   ]
  },
  {
   "cell_type": "code",
   "execution_count": 145,
   "metadata": {},
   "outputs": [
    {
     "data": {
      "text/plain": [
       "26325"
      ]
     },
     "execution_count": 145,
     "metadata": {},
     "output_type": "execute_result"
    }
   ],
   "source": [
    "unique_images = (test['FirstId'].append(test['SecondId'])).unique()\n",
    "unique_images.shape[0]"
   ]
  },
  {
   "cell_type": "code",
   "execution_count": 146,
   "metadata": {},
   "outputs": [
    {
     "data": {
      "text/plain": [
       "(0, 26324)"
      ]
     },
     "execution_count": 146,
     "metadata": {},
     "output_type": "execute_result"
    }
   ],
   "source": [
    "unique_images.min(), unique_images.max()"
   ]
  },
  {
   "cell_type": "code",
   "execution_count": 147,
   "metadata": {},
   "outputs": [
    {
     "data": {
      "text/plain": [
       "368550"
      ]
     },
     "execution_count": 147,
     "metadata": {},
     "output_type": "execute_result"
    }
   ],
   "source": [
    "test.shape[0]"
   ]
  },
  {
   "cell_type": "code",
   "execution_count": 148,
   "metadata": {},
   "outputs": [
    {
     "data": {
      "text/html": [
       "<div>\n",
       "<table border=\"1\" class=\"dataframe\">\n",
       "  <thead>\n",
       "    <tr style=\"text-align: right;\">\n",
       "      <th></th>\n",
       "      <th>pairId</th>\n",
       "      <th>FirstId</th>\n",
       "      <th>SecondId</th>\n",
       "    </tr>\n",
       "  </thead>\n",
       "  <tbody>\n",
       "    <tr>\n",
       "      <th>0</th>\n",
       "      <td>0</td>\n",
       "      <td>1427</td>\n",
       "      <td>8053</td>\n",
       "    </tr>\n",
       "    <tr>\n",
       "      <th>1</th>\n",
       "      <td>1</td>\n",
       "      <td>17044</td>\n",
       "      <td>7681</td>\n",
       "    </tr>\n",
       "    <tr>\n",
       "      <th>2</th>\n",
       "      <td>2</td>\n",
       "      <td>19237</td>\n",
       "      <td>20966</td>\n",
       "    </tr>\n",
       "    <tr>\n",
       "      <th>3</th>\n",
       "      <td>3</td>\n",
       "      <td>8005</td>\n",
       "      <td>20765</td>\n",
       "    </tr>\n",
       "    <tr>\n",
       "      <th>4</th>\n",
       "      <td>4</td>\n",
       "      <td>16837</td>\n",
       "      <td>599</td>\n",
       "    </tr>\n",
       "    <tr>\n",
       "      <th>5</th>\n",
       "      <td>5</td>\n",
       "      <td>3657</td>\n",
       "      <td>12504</td>\n",
       "    </tr>\n",
       "    <tr>\n",
       "      <th>6</th>\n",
       "      <td>6</td>\n",
       "      <td>2836</td>\n",
       "      <td>7582</td>\n",
       "    </tr>\n",
       "    <tr>\n",
       "      <th>7</th>\n",
       "      <td>7</td>\n",
       "      <td>6136</td>\n",
       "      <td>6111</td>\n",
       "    </tr>\n",
       "    <tr>\n",
       "      <th>8</th>\n",
       "      <td>8</td>\n",
       "      <td>23295</td>\n",
       "      <td>9817</td>\n",
       "    </tr>\n",
       "    <tr>\n",
       "      <th>9</th>\n",
       "      <td>9</td>\n",
       "      <td>6621</td>\n",
       "      <td>7672</td>\n",
       "    </tr>\n",
       "    <tr>\n",
       "      <th>10</th>\n",
       "      <td>10</td>\n",
       "      <td>14913</td>\n",
       "      <td>25036</td>\n",
       "    </tr>\n",
       "    <tr>\n",
       "      <th>11</th>\n",
       "      <td>11</td>\n",
       "      <td>10182</td>\n",
       "      <td>21628</td>\n",
       "    </tr>\n",
       "    <tr>\n",
       "      <th>12</th>\n",
       "      <td>12</td>\n",
       "      <td>7891</td>\n",
       "      <td>15658</td>\n",
       "    </tr>\n",
       "    <tr>\n",
       "      <th>13</th>\n",
       "      <td>13</td>\n",
       "      <td>20350</td>\n",
       "      <td>3568</td>\n",
       "    </tr>\n",
       "    <tr>\n",
       "      <th>14</th>\n",
       "      <td>14</td>\n",
       "      <td>3101</td>\n",
       "      <td>9799</td>\n",
       "    </tr>\n",
       "    <tr>\n",
       "      <th>15</th>\n",
       "      <td>15</td>\n",
       "      <td>16381</td>\n",
       "      <td>1565</td>\n",
       "    </tr>\n",
       "    <tr>\n",
       "      <th>16</th>\n",
       "      <td>16</td>\n",
       "      <td>16564</td>\n",
       "      <td>7991</td>\n",
       "    </tr>\n",
       "    <tr>\n",
       "      <th>17</th>\n",
       "      <td>17</td>\n",
       "      <td>5279</td>\n",
       "      <td>8834</td>\n",
       "    </tr>\n",
       "    <tr>\n",
       "      <th>18</th>\n",
       "      <td>18</td>\n",
       "      <td>13301</td>\n",
       "      <td>10079</td>\n",
       "    </tr>\n",
       "    <tr>\n",
       "      <th>19</th>\n",
       "      <td>19</td>\n",
       "      <td>3376</td>\n",
       "      <td>24330</td>\n",
       "    </tr>\n",
       "    <tr>\n",
       "      <th>20</th>\n",
       "      <td>20</td>\n",
       "      <td>7270</td>\n",
       "      <td>2824</td>\n",
       "    </tr>\n",
       "    <tr>\n",
       "      <th>21</th>\n",
       "      <td>21</td>\n",
       "      <td>12853</td>\n",
       "      <td>15040</td>\n",
       "    </tr>\n",
       "    <tr>\n",
       "      <th>22</th>\n",
       "      <td>22</td>\n",
       "      <td>21694</td>\n",
       "      <td>10801</td>\n",
       "    </tr>\n",
       "    <tr>\n",
       "      <th>23</th>\n",
       "      <td>23</td>\n",
       "      <td>3876</td>\n",
       "      <td>18111</td>\n",
       "    </tr>\n",
       "    <tr>\n",
       "      <th>24</th>\n",
       "      <td>24</td>\n",
       "      <td>6323</td>\n",
       "      <td>16494</td>\n",
       "    </tr>\n",
       "    <tr>\n",
       "      <th>25</th>\n",
       "      <td>25</td>\n",
       "      <td>1978</td>\n",
       "      <td>9875</td>\n",
       "    </tr>\n",
       "    <tr>\n",
       "      <th>26</th>\n",
       "      <td>26</td>\n",
       "      <td>8645</td>\n",
       "      <td>2909</td>\n",
       "    </tr>\n",
       "    <tr>\n",
       "      <th>27</th>\n",
       "      <td>27</td>\n",
       "      <td>19035</td>\n",
       "      <td>8785</td>\n",
       "    </tr>\n",
       "    <tr>\n",
       "      <th>28</th>\n",
       "      <td>28</td>\n",
       "      <td>5276</td>\n",
       "      <td>17183</td>\n",
       "    </tr>\n",
       "    <tr>\n",
       "      <th>29</th>\n",
       "      <td>29</td>\n",
       "      <td>11467</td>\n",
       "      <td>20791</td>\n",
       "    </tr>\n",
       "    <tr>\n",
       "      <th>...</th>\n",
       "      <td>...</td>\n",
       "      <td>...</td>\n",
       "      <td>...</td>\n",
       "    </tr>\n",
       "    <tr>\n",
       "      <th>368520</th>\n",
       "      <td>368520</td>\n",
       "      <td>2081</td>\n",
       "      <td>9459</td>\n",
       "    </tr>\n",
       "    <tr>\n",
       "      <th>368521</th>\n",
       "      <td>368521</td>\n",
       "      <td>8266</td>\n",
       "      <td>26099</td>\n",
       "    </tr>\n",
       "    <tr>\n",
       "      <th>368522</th>\n",
       "      <td>368522</td>\n",
       "      <td>9007</td>\n",
       "      <td>17357</td>\n",
       "    </tr>\n",
       "    <tr>\n",
       "      <th>368523</th>\n",
       "      <td>368523</td>\n",
       "      <td>729</td>\n",
       "      <td>10240</td>\n",
       "    </tr>\n",
       "    <tr>\n",
       "      <th>368524</th>\n",
       "      <td>368524</td>\n",
       "      <td>12842</td>\n",
       "      <td>16303</td>\n",
       "    </tr>\n",
       "    <tr>\n",
       "      <th>368525</th>\n",
       "      <td>368525</td>\n",
       "      <td>11037</td>\n",
       "      <td>8692</td>\n",
       "    </tr>\n",
       "    <tr>\n",
       "      <th>368526</th>\n",
       "      <td>368526</td>\n",
       "      <td>5838</td>\n",
       "      <td>12550</td>\n",
       "    </tr>\n",
       "    <tr>\n",
       "      <th>368527</th>\n",
       "      <td>368527</td>\n",
       "      <td>2952</td>\n",
       "      <td>18715</td>\n",
       "    </tr>\n",
       "    <tr>\n",
       "      <th>368528</th>\n",
       "      <td>368528</td>\n",
       "      <td>19085</td>\n",
       "      <td>9672</td>\n",
       "    </tr>\n",
       "    <tr>\n",
       "      <th>368529</th>\n",
       "      <td>368529</td>\n",
       "      <td>2609</td>\n",
       "      <td>4137</td>\n",
       "    </tr>\n",
       "    <tr>\n",
       "      <th>368530</th>\n",
       "      <td>368530</td>\n",
       "      <td>2302</td>\n",
       "      <td>3826</td>\n",
       "    </tr>\n",
       "    <tr>\n",
       "      <th>368531</th>\n",
       "      <td>368531</td>\n",
       "      <td>2952</td>\n",
       "      <td>16787</td>\n",
       "    </tr>\n",
       "    <tr>\n",
       "      <th>368532</th>\n",
       "      <td>368532</td>\n",
       "      <td>3957</td>\n",
       "      <td>16265</td>\n",
       "    </tr>\n",
       "    <tr>\n",
       "      <th>368533</th>\n",
       "      <td>368533</td>\n",
       "      <td>4806</td>\n",
       "      <td>8953</td>\n",
       "    </tr>\n",
       "    <tr>\n",
       "      <th>368534</th>\n",
       "      <td>368534</td>\n",
       "      <td>23179</td>\n",
       "      <td>5086</td>\n",
       "    </tr>\n",
       "    <tr>\n",
       "      <th>368535</th>\n",
       "      <td>368535</td>\n",
       "      <td>3033</td>\n",
       "      <td>26094</td>\n",
       "    </tr>\n",
       "    <tr>\n",
       "      <th>368536</th>\n",
       "      <td>368536</td>\n",
       "      <td>5436</td>\n",
       "      <td>17533</td>\n",
       "    </tr>\n",
       "    <tr>\n",
       "      <th>368537</th>\n",
       "      <td>368537</td>\n",
       "      <td>23731</td>\n",
       "      <td>5874</td>\n",
       "    </tr>\n",
       "    <tr>\n",
       "      <th>368538</th>\n",
       "      <td>368538</td>\n",
       "      <td>2860</td>\n",
       "      <td>6645</td>\n",
       "    </tr>\n",
       "    <tr>\n",
       "      <th>368539</th>\n",
       "      <td>368539</td>\n",
       "      <td>8398</td>\n",
       "      <td>21157</td>\n",
       "    </tr>\n",
       "    <tr>\n",
       "      <th>368540</th>\n",
       "      <td>368540</td>\n",
       "      <td>2975</td>\n",
       "      <td>23930</td>\n",
       "    </tr>\n",
       "    <tr>\n",
       "      <th>368541</th>\n",
       "      <td>368541</td>\n",
       "      <td>25393</td>\n",
       "      <td>1876</td>\n",
       "    </tr>\n",
       "    <tr>\n",
       "      <th>368542</th>\n",
       "      <td>368542</td>\n",
       "      <td>572</td>\n",
       "      <td>7197</td>\n",
       "    </tr>\n",
       "    <tr>\n",
       "      <th>368543</th>\n",
       "      <td>368543</td>\n",
       "      <td>6016</td>\n",
       "      <td>8422</td>\n",
       "    </tr>\n",
       "    <tr>\n",
       "      <th>368544</th>\n",
       "      <td>368544</td>\n",
       "      <td>2832</td>\n",
       "      <td>18595</td>\n",
       "    </tr>\n",
       "    <tr>\n",
       "      <th>368545</th>\n",
       "      <td>368545</td>\n",
       "      <td>2996</td>\n",
       "      <td>6659</td>\n",
       "    </tr>\n",
       "    <tr>\n",
       "      <th>368546</th>\n",
       "      <td>368546</td>\n",
       "      <td>13626</td>\n",
       "      <td>3390</td>\n",
       "    </tr>\n",
       "    <tr>\n",
       "      <th>368547</th>\n",
       "      <td>368547</td>\n",
       "      <td>25407</td>\n",
       "      <td>2932</td>\n",
       "    </tr>\n",
       "    <tr>\n",
       "      <th>368548</th>\n",
       "      <td>368548</td>\n",
       "      <td>25305</td>\n",
       "      <td>5588</td>\n",
       "    </tr>\n",
       "    <tr>\n",
       "      <th>368549</th>\n",
       "      <td>368549</td>\n",
       "      <td>1767</td>\n",
       "      <td>11874</td>\n",
       "    </tr>\n",
       "  </tbody>\n",
       "</table>\n",
       "<p>368550 rows × 3 columns</p>\n",
       "</div>"
      ],
      "text/plain": [
       "        pairId  FirstId  SecondId\n",
       "0            0     1427      8053\n",
       "1            1    17044      7681\n",
       "2            2    19237     20966\n",
       "3            3     8005     20765\n",
       "4            4    16837       599\n",
       "5            5     3657     12504\n",
       "6            6     2836      7582\n",
       "7            7     6136      6111\n",
       "8            8    23295      9817\n",
       "9            9     6621      7672\n",
       "10          10    14913     25036\n",
       "11          11    10182     21628\n",
       "12          12     7891     15658\n",
       "13          13    20350      3568\n",
       "14          14     3101      9799\n",
       "15          15    16381      1565\n",
       "16          16    16564      7991\n",
       "17          17     5279      8834\n",
       "18          18    13301     10079\n",
       "19          19     3376     24330\n",
       "20          20     7270      2824\n",
       "21          21    12853     15040\n",
       "22          22    21694     10801\n",
       "23          23     3876     18111\n",
       "24          24     6323     16494\n",
       "25          25     1978      9875\n",
       "26          26     8645      2909\n",
       "27          27    19035      8785\n",
       "28          28     5276     17183\n",
       "29          29    11467     20791\n",
       "...        ...      ...       ...\n",
       "368520  368520     2081      9459\n",
       "368521  368521     8266     26099\n",
       "368522  368522     9007     17357\n",
       "368523  368523      729     10240\n",
       "368524  368524    12842     16303\n",
       "368525  368525    11037      8692\n",
       "368526  368526     5838     12550\n",
       "368527  368527     2952     18715\n",
       "368528  368528    19085      9672\n",
       "368529  368529     2609      4137\n",
       "368530  368530     2302      3826\n",
       "368531  368531     2952     16787\n",
       "368532  368532     3957     16265\n",
       "368533  368533     4806      8953\n",
       "368534  368534    23179      5086\n",
       "368535  368535     3033     26094\n",
       "368536  368536     5436     17533\n",
       "368537  368537    23731      5874\n",
       "368538  368538     2860      6645\n",
       "368539  368539     8398     21157\n",
       "368540  368540     2975     23930\n",
       "368541  368541    25393      1876\n",
       "368542  368542      572      7197\n",
       "368543  368543     6016      8422\n",
       "368544  368544     2832     18595\n",
       "368545  368545     2996      6659\n",
       "368546  368546    13626      3390\n",
       "368547  368547    25407      2932\n",
       "368548  368548    25305      5588\n",
       "368549  368549     1767     11874\n",
       "\n",
       "[368550 rows x 3 columns]"
      ]
     },
     "execution_count": 148,
     "metadata": {},
     "output_type": "execute_result"
    }
   ],
   "source": [
    "test"
   ]
  },
  {
   "cell_type": "code",
   "execution_count": null,
   "metadata": {},
   "outputs": [],
   "source": []
  },
  {
   "cell_type": "code",
   "execution_count": null,
   "metadata": {},
   "outputs": [],
   "source": []
  },
  {
   "cell_type": "code",
   "execution_count": null,
   "metadata": {},
   "outputs": [],
   "source": []
  },
  {
   "cell_type": "code",
   "execution_count": null,
   "metadata": {},
   "outputs": [],
   "source": []
  },
  {
   "cell_type": "code",
   "execution_count": null,
   "metadata": {},
   "outputs": [],
   "source": []
  },
  {
   "cell_type": "markdown",
   "metadata": {},
   "source": [
    "# EDA and leakage intuition"
   ]
  },
  {
   "cell_type": "markdown",
   "metadata": {},
   "source": [
    "As we already know, the key to discover data leakages is careful EDA. So let's start our work with some basic data exploration and build an intuition about the leakage."
   ]
  },
  {
   "cell_type": "markdown",
   "metadata": {},
   "source": [
    "First, check, how many different `id`s are there: concatenate `FirstId` and `SecondId` and print the number of unique elements. Also print minimum and maximum value for that vector."
   ]
  },
  {
   "cell_type": "code",
   "execution_count": 150,
   "metadata": {},
   "outputs": [
    {
     "data": {
      "text/plain": [
       "(26325, 0, 26324)"
      ]
     },
     "execution_count": 150,
     "metadata": {},
     "output_type": "execute_result"
    }
   ],
   "source": [
    "unique_images = (test['FirstId'].append(test['SecondId']).unique())\n",
    "unique_images.shape[0], unique_images.min(), unique_images.max()"
   ]
  },
  {
   "cell_type": "markdown",
   "metadata": {},
   "source": [
    "and then print how many pairs we need to classify (it is basically the number of rows in the test set)"
   ]
  },
  {
   "cell_type": "code",
   "execution_count": 151,
   "metadata": {},
   "outputs": [
    {
     "data": {
      "text/plain": [
       "368550"
      ]
     },
     "execution_count": 151,
     "metadata": {},
     "output_type": "execute_result"
    }
   ],
   "source": [
    "test.shape[0]"
   ]
  },
  {
   "cell_type": "markdown",
   "metadata": {},
   "source": [
    "Now print, how many distinct pairs it would be possible to create out of all \"images\" in the dataset?   "
   ]
  },
  {
   "cell_type": "code",
   "execution_count": 152,
   "metadata": {},
   "outputs": [
    {
     "data": {
      "text/plain": [
       "692979300"
      ]
     },
     "execution_count": 152,
     "metadata": {},
     "output_type": "execute_result"
    }
   ],
   "source": [
    "unique_images.shape[0]*(unique_images.shape[0]-1)"
   ]
  },
  {
   "cell_type": "code",
   "execution_count": 11,
   "metadata": {},
   "outputs": [
    {
     "data": {
      "text/plain": [
       "0.0001627187611687853"
      ]
     },
     "execution_count": 11,
     "metadata": {},
     "output_type": "execute_result"
    }
   ],
   "source": [
    "test.shape[0] / 2264950872."
   ]
  },
  {
   "cell_type": "markdown",
   "metadata": {},
   "source": [
    "So the number of pairs we are given to classify is very very small compared to the total number of pairs. \n",
    "\n",
    "To exploit the leak we need to **assume (or prove)**, that the total number of positive pairs is small, compared to the total number of pairs. For example: think about an image dataset with $1000$ classes, $N$ images per class. Then if the task was to tell whether a pair of images belongs to the same class or not, we would have $1000\\frac{N(N-1)}{2}$ positive pairs, while total number of pairs was $\\frac{1000N(1000N - 1)}{2}$.\n",
    "\n",
    "Another example: in [Quora competitition](https://www.kaggle.com/c/quora-question-pairs) the task was to classify whether a pair of qustions are duplicates of each other or not. Of course, total number of question pairs is very huge, while number of duplicates (positive pairs) is much much smaller."
   ]
  },
  {
   "cell_type": "markdown",
   "metadata": {
    "collapsed": true
   },
   "source": [
    "Finally, let's get a fraction of pairs of class `1`. We just need to submit a constant prediction \"all ones\" and check the returned accuracy. Create a dataframe with columns `pairId` and `Prediction`, fill it and export it to `.csv` file. Then submit to grader and examine grader's output. "
   ]
  },
  {
   "cell_type": "code",
   "execution_count": 12,
   "metadata": {},
   "outputs": [],
   "source": [
    "all_ones = pd.DataFrame({'pairId': range(test.shape[0]), 'Prediction': 1})\n",
    "all_ones.reindex_axis(['pairId', 'Prediction'])\n",
    "\n",
    "all_ones.to_csv('submission.csv', columns=['pairId', 'Prediction'], index=False)"
   ]
  },
  {
   "cell_type": "markdown",
   "metadata": {},
   "source": [
    "So, we assumed the total number of pairs is much higher than the number of positive pairs, but it is not the case for the test set. It means that the test set is constructed not by sampling random pairs, but with a specific sampling algorithm. Pairs of class `1` are oversampled.\n",
    "\n",
    "Now think, how we can exploit this fact? What is the leak here? If you get it now, you may try to get to the final answer yourself, othewise you can follow the instructions below.   "
   ]
  },
  {
   "cell_type": "code",
   "execution_count": null,
   "metadata": {},
   "outputs": [],
   "source": []
  },
  {
   "cell_type": "code",
   "execution_count": null,
   "metadata": {},
   "outputs": [],
   "source": []
  },
  {
   "cell_type": "code",
   "execution_count": null,
   "metadata": {},
   "outputs": [],
   "source": []
  },
  {
   "cell_type": "code",
   "execution_count": null,
   "metadata": {},
   "outputs": [],
   "source": []
  },
  {
   "cell_type": "markdown",
   "metadata": {},
   "source": [
    "# Building a magic feature"
   ]
  },
  {
   "cell_type": "markdown",
   "metadata": {},
   "source": [
    "In this section we will build a magic feature, that will solve the problem almost perfectly. The instructions will lead you to the correct solution, but please, try to explain the purpose of the steps we do to yourself -- it is very important."
   ]
  },
  {
   "cell_type": "markdown",
   "metadata": {},
   "source": [
    "## Incidence matrix"
   ]
  },
  {
   "cell_type": "markdown",
   "metadata": {},
   "source": [
    "First, we need to build an [incidence matrix](https://en.wikipedia.org/wiki/Incidence_matrix). You can think of pairs `(FirstId, SecondId)` as of edges in an undirected graph. \n",
    "\n",
    "The incidence matrix is a matrix of size `(maxId + 1, maxId + 1)`, where each row (column) `i` corresponds `i-th` `Id`. In this matrix we put the value `1` to the position `[i, j]`, if and only if a pair `(i, j)` or `(j, i)` is present in  a given set of pais `(FirstId, SecondId)`. All the other elements in the incidence matrix are zeros.   \n",
    "\n",
    "**Important!** The incidence matrices are typically very very sparse (small number of non-zero values). At the same time incidence matrices are usually huge in terms of total number of elements, and it is **impossible to store them in memory in dense format**. But due to their sparsity incidence matrices **can be easily represented as sparse matrices**. If you are not familiar with sparse matrices, please see [wiki](https://en.wikipedia.org/wiki/Sparse_matrix) and [scipy.sparse reference](https://docs.scipy.org/doc/scipy/reference/sparse.html). Please, use any of `scipy.sparse` constructors to build incidence matrix. \n",
    "\n",
    "For example, you can use this constructor: `scipy.sparse.coo_matrix((data, (i, j)))`. We highly recommend to learn to use different `scipy.sparse` constuctors, and matrices types, but if you feel you don't want to use them, you can always build this matrix with a simple `for` loop. You will need first to create a matrix using `scipy.sparse.coo_matrix((M, N), [dtype])` with an appropriate shape `(M, N)` and then iterate through `(FirstId, SecondId)` pairs and fill corresponding elements in matrix with ones. \n",
    "\n",
    "**Note**, that the matrix should be symmetric and consist only of zeros and ones. It is a way to check yourself."
   ]
  },
  {
   "cell_type": "code",
   "execution_count": 17,
   "metadata": {},
   "outputs": [],
   "source": [
    "from scipy.sparse import coo_matrix\n",
    "\n",
    "mat_rows = test['FirstId']\n",
    "mat_cols = test['SecondId']\n",
    "inc_mat = coo_matrix((np.ones(len(mat_cols)), (mat_rows, mat_cols))) + coo_matrix((np.ones(len(mat_cols)), (mat_cols, mat_rows)))\n",
    "inc_mat[inc_mat > 1] = 1"
   ]
  },
  {
   "cell_type": "code",
   "execution_count": 18,
   "metadata": {},
   "outputs": [
    {
     "data": {
      "text/plain": [
       "<26325x26325 sparse matrix of type '<class 'numpy.float64'>'\n",
       "\twith 736872 stored elements in Compressed Sparse Row format>"
      ]
     },
     "execution_count": 18,
     "metadata": {},
     "output_type": "execute_result"
    }
   ],
   "source": [
    "inc_mat"
   ]
  },
  {
   "cell_type": "code",
   "execution_count": 19,
   "metadata": {},
   "outputs": [
    {
     "data": {
      "text/plain": [
       "1.0"
      ]
     },
     "execution_count": 19,
     "metadata": {},
     "output_type": "execute_result"
    }
   ],
   "source": [
    "inc_mat.max()"
   ]
  },
  {
   "cell_type": "code",
   "execution_count": 20,
   "metadata": {},
   "outputs": [],
   "source": [
    "# Sanity checks\n",
    "assert inc_mat.max() == 1\n",
    "assert inc_mat.sum() == 736872"
   ]
  },
  {
   "cell_type": "markdown",
   "metadata": {},
   "source": [
    "It is convenient to have matrix in `csr` format eventually."
   ]
  },
  {
   "cell_type": "code",
   "execution_count": 21,
   "metadata": {},
   "outputs": [],
   "source": [
    "inc_mat = inc_mat.tocsr()"
   ]
  },
  {
   "cell_type": "markdown",
   "metadata": {},
   "source": [
    "## Now build the magic feature"
   ]
  },
  {
   "cell_type": "markdown",
   "metadata": {},
   "source": [
    "Why did we build the incidence matrix? We can think of the rows in this matix as of representations for the objects. `i-th` row is a representation for an object with `Id = i`. Then, to measure similarity between two objects we can measure similarity between their representations. And we will see, that such representations are very good."
   ]
  },
  {
   "cell_type": "markdown",
   "metadata": {},
   "source": [
    "Now select the rows from the incidence matrix, that correspond to `test.FirstId`'s, and `test.SecondId`'s."
   ]
  },
  {
   "cell_type": "code",
   "execution_count": 92,
   "metadata": {},
   "outputs": [],
   "source": [
    "# Note, scipy goes crazy if a matrix is indexed with pandas' series. \n",
    "# So do not forget to convert `pd.series` to `np.array`\n",
    "# These lines should normally run very quickly \n",
    "\n",
    "rows_FirstId   = inc_mat[test['FirstId'].values]\n",
    "rows_SecondId  = inc_mat[test['SecondId'].values]"
   ]
  },
  {
   "cell_type": "markdown",
   "metadata": {},
   "source": [
    "Our magic feature will be the *dot product* between representations of a pair of objects. Dot product can be regarded as similarity measure -- for our non-negative representations the dot product is close to 0 when the representations are different, and is huge, when representations are similar. \n",
    "\n",
    "Now compute dot product between corresponding rows in `rows_FirstId` and `rows_SecondId` matrices."
   ]
  },
  {
   "cell_type": "code",
   "execution_count": 93,
   "metadata": {},
   "outputs": [],
   "source": [
    "f = np.sum(rows_FirstId.multiply(rows_SecondId),axis=1)"
   ]
  },
  {
   "cell_type": "code",
   "execution_count": 94,
   "metadata": {},
   "outputs": [
    {
     "data": {
      "text/plain": [
       "(1, 368550)"
      ]
     },
     "execution_count": 94,
     "metadata": {},
     "output_type": "execute_result"
    }
   ],
   "source": [
    "f.reshape((368550,)).shape"
   ]
  },
  {
   "cell_type": "code",
   "execution_count": 95,
   "metadata": {},
   "outputs": [],
   "source": [
    "# Note, that in order to do pointwise multiplication in scipy.sparse you need to use function `multiply`\n",
    "# regular `*` corresponds to matrix-matrix multiplication\n",
    "\n",
    "f = np.sum(rows_FirstId.multiply(rows_SecondId),axis=1)\n",
    "f = np.squeeze(np.asarray(f))\n",
    "\n",
    "# Sanity check\n",
    "assert f.shape == (368550, )"
   ]
  },
  {
   "cell_type": "markdown",
   "metadata": {},
   "source": [
    "That is it! **We've built our magic feature.** "
   ]
  },
  {
   "cell_type": "markdown",
   "metadata": {},
   "source": [
    "# From magic feature to binary predictions"
   ]
  },
  {
   "cell_type": "code",
   "execution_count": 69,
   "metadata": {},
   "outputs": [
    {
     "data": {
      "text/plain": [
       "(array([0, 0, 0, 0, 0, 0, 0, 0, 0, 0, 0, 0, 0, 0, 0, 0, 0, 0, 0, 0, 0, 0, 0,\n",
       "        0, 0, 0, 0, 0, 0, 0, 0, 0, 0, 0, 0, 0]),\n",
       " array([  541,  1171,  1209,  1371,  1987,  2934,  3467,  3512,  3651,\n",
       "         3846,  4474,  4993,  5394,  5648,  7797,  8053,  9136,  9366,\n",
       "        11235, 11488, 12360, 13829, 14291, 14546, 15819, 17301, 17491,\n",
       "        17746, 19083, 20558, 20813, 22288, 22689, 22945, 24420, 24669]))"
      ]
     },
     "execution_count": 69,
     "metadata": {},
     "output_type": "execute_result"
    }
   ],
   "source": [
    "np.nonzero(rows_FirstId[0].toarray())"
   ]
  },
  {
   "cell_type": "code",
   "execution_count": 70,
   "metadata": {},
   "outputs": [
    {
     "data": {
      "text/plain": [
       "20.0"
      ]
     },
     "execution_count": 70,
     "metadata": {},
     "output_type": "execute_result"
    }
   ],
   "source": [
    "f[0]"
   ]
  },
  {
   "cell_type": "code",
   "execution_count": 71,
   "metadata": {},
   "outputs": [
    {
     "data": {
      "text/plain": [
       "(array([0, 0, 0, 0, 0, 0, 0, 0, 0, 0, 0, 0, 0, 0, 0, 0, 0, 0, 0, 0, 0, 0, 0,\n",
       "        0, 0, 0, 0, 0, 0, 0, 0, 0, 0, 0, 0, 0]),\n",
       " array([  541,  1064,  1209,  1371,  1427,  1987,  2934,  3360,  3512,\n",
       "         3651,  3846,  4474,  4886,  5287,  5648,  7690,  9033,  9366,\n",
       "        11128, 11488, 12360, 13723, 14184, 14546, 15819, 17194, 17384,\n",
       "        17746, 19083, 20453, 20813, 22183, 22582, 22945, 24314, 24669]))"
      ]
     },
     "execution_count": 71,
     "metadata": {},
     "output_type": "execute_result"
    }
   ],
   "source": [
    "np.nonzero(rows_SecondId[0].toarray())"
   ]
  },
  {
   "cell_type": "code",
   "execution_count": 72,
   "metadata": {},
   "outputs": [
    {
     "data": {
      "text/plain": [
       "1427"
      ]
     },
     "execution_count": 72,
     "metadata": {},
     "output_type": "execute_result"
    }
   ],
   "source": [
    "test['FirstId'][0]"
   ]
  },
  {
   "cell_type": "code",
   "execution_count": 73,
   "metadata": {},
   "outputs": [
    {
     "data": {
      "text/plain": [
       "8053"
      ]
     },
     "execution_count": 73,
     "metadata": {},
     "output_type": "execute_result"
    }
   ],
   "source": [
    "test['SecondId'][0]"
   ]
  },
  {
   "cell_type": "code",
   "execution_count": 88,
   "metadata": {},
   "outputs": [
    {
     "data": {
      "text/plain": [
       "[541,\n",
       " 1171,\n",
       " 1209,\n",
       " 1371,\n",
       " 1427,\n",
       " 1987,\n",
       " 2934,\n",
       " 3467,\n",
       " 3512,\n",
       " 3651,\n",
       " 3846,\n",
       " 4474,\n",
       " 4993,\n",
       " 5394,\n",
       " 5648,\n",
       " 7797,\n",
       " 8053,\n",
       " 9136,\n",
       " 9366,\n",
       " 11235,\n",
       " 11488,\n",
       " 12360,\n",
       " 13829,\n",
       " 14291,\n",
       " 14546,\n",
       " 15819,\n",
       " 17301,\n",
       " 17491,\n",
       " 17746,\n",
       " 19083,\n",
       " 20558,\n",
       " 20813,\n",
       " 22288,\n",
       " 22689,\n",
       " 22945,\n",
       " 24420,\n",
       " 24669]"
      ]
     },
     "execution_count": 88,
     "metadata": {},
     "output_type": "execute_result"
    }
   ],
   "source": [
    "pairs_1427 = test[(test['FirstId'] == 1427) | (test['SecondId'] == 1427)]\n",
    "sorted((pairs_1427['FirstId'].append(pairs_1427['SecondId'])).unique())"
   ]
  },
  {
   "cell_type": "code",
   "execution_count": 81,
   "metadata": {},
   "outputs": [
    {
     "data": {
      "text/html": [
       "<div>\n",
       "<table border=\"1\" class=\"dataframe\">\n",
       "  <thead>\n",
       "    <tr style=\"text-align: right;\">\n",
       "      <th></th>\n",
       "      <th>pairId</th>\n",
       "      <th>FirstId</th>\n",
       "      <th>SecondId</th>\n",
       "    </tr>\n",
       "  </thead>\n",
       "  <tbody>\n",
       "    <tr>\n",
       "      <th>0</th>\n",
       "      <td>0</td>\n",
       "      <td>1427</td>\n",
       "      <td>8053</td>\n",
       "    </tr>\n",
       "    <tr>\n",
       "      <th>9362</th>\n",
       "      <td>9362</td>\n",
       "      <td>1427</td>\n",
       "      <td>15819</td>\n",
       "    </tr>\n",
       "    <tr>\n",
       "      <th>26482</th>\n",
       "      <td>26482</td>\n",
       "      <td>1427</td>\n",
       "      <td>3846</td>\n",
       "    </tr>\n",
       "    <tr>\n",
       "      <th>35238</th>\n",
       "      <td>35238</td>\n",
       "      <td>1427</td>\n",
       "      <td>12360</td>\n",
       "    </tr>\n",
       "    <tr>\n",
       "      <th>52426</th>\n",
       "      <td>52426</td>\n",
       "      <td>1427</td>\n",
       "      <td>22945</td>\n",
       "    </tr>\n",
       "    <tr>\n",
       "      <th>60062</th>\n",
       "      <td>60062</td>\n",
       "      <td>13829</td>\n",
       "      <td>1427</td>\n",
       "    </tr>\n",
       "    <tr>\n",
       "      <th>82897</th>\n",
       "      <td>82897</td>\n",
       "      <td>1427</td>\n",
       "      <td>541</td>\n",
       "    </tr>\n",
       "    <tr>\n",
       "      <th>86120</th>\n",
       "      <td>86120</td>\n",
       "      <td>1427</td>\n",
       "      <td>24669</td>\n",
       "    </tr>\n",
       "    <tr>\n",
       "      <th>90175</th>\n",
       "      <td>90175</td>\n",
       "      <td>1427</td>\n",
       "      <td>17746</td>\n",
       "    </tr>\n",
       "    <tr>\n",
       "      <th>94207</th>\n",
       "      <td>94207</td>\n",
       "      <td>1427</td>\n",
       "      <td>4474</td>\n",
       "    </tr>\n",
       "    <tr>\n",
       "      <th>95631</th>\n",
       "      <td>95631</td>\n",
       "      <td>3467</td>\n",
       "      <td>1427</td>\n",
       "    </tr>\n",
       "    <tr>\n",
       "      <th>117304</th>\n",
       "      <td>117304</td>\n",
       "      <td>22689</td>\n",
       "      <td>1427</td>\n",
       "    </tr>\n",
       "    <tr>\n",
       "      <th>119611</th>\n",
       "      <td>119611</td>\n",
       "      <td>1427</td>\n",
       "      <td>2934</td>\n",
       "    </tr>\n",
       "    <tr>\n",
       "      <th>127272</th>\n",
       "      <td>127272</td>\n",
       "      <td>22288</td>\n",
       "      <td>1427</td>\n",
       "    </tr>\n",
       "    <tr>\n",
       "      <th>137389</th>\n",
       "      <td>137389</td>\n",
       "      <td>7797</td>\n",
       "      <td>1427</td>\n",
       "    </tr>\n",
       "    <tr>\n",
       "      <th>147951</th>\n",
       "      <td>147951</td>\n",
       "      <td>1427</td>\n",
       "      <td>1209</td>\n",
       "    </tr>\n",
       "    <tr>\n",
       "      <th>151784</th>\n",
       "      <td>151784</td>\n",
       "      <td>1427</td>\n",
       "      <td>3512</td>\n",
       "    </tr>\n",
       "    <tr>\n",
       "      <th>155450</th>\n",
       "      <td>155450</td>\n",
       "      <td>1427</td>\n",
       "      <td>1987</td>\n",
       "    </tr>\n",
       "    <tr>\n",
       "      <th>162997</th>\n",
       "      <td>162997</td>\n",
       "      <td>20558</td>\n",
       "      <td>1427</td>\n",
       "    </tr>\n",
       "    <tr>\n",
       "      <th>168141</th>\n",
       "      <td>168141</td>\n",
       "      <td>14291</td>\n",
       "      <td>1427</td>\n",
       "    </tr>\n",
       "    <tr>\n",
       "      <th>169240</th>\n",
       "      <td>169240</td>\n",
       "      <td>4993</td>\n",
       "      <td>1427</td>\n",
       "    </tr>\n",
       "    <tr>\n",
       "      <th>185313</th>\n",
       "      <td>185313</td>\n",
       "      <td>1171</td>\n",
       "      <td>1427</td>\n",
       "    </tr>\n",
       "    <tr>\n",
       "      <th>220879</th>\n",
       "      <td>220879</td>\n",
       "      <td>1427</td>\n",
       "      <td>1371</td>\n",
       "    </tr>\n",
       "    <tr>\n",
       "      <th>232700</th>\n",
       "      <td>232700</td>\n",
       "      <td>11235</td>\n",
       "      <td>1427</td>\n",
       "    </tr>\n",
       "    <tr>\n",
       "      <th>258928</th>\n",
       "      <td>258928</td>\n",
       "      <td>17491</td>\n",
       "      <td>1427</td>\n",
       "    </tr>\n",
       "    <tr>\n",
       "      <th>262934</th>\n",
       "      <td>262934</td>\n",
       "      <td>1427</td>\n",
       "      <td>20813</td>\n",
       "    </tr>\n",
       "    <tr>\n",
       "      <th>290339</th>\n",
       "      <td>290339</td>\n",
       "      <td>24420</td>\n",
       "      <td>1427</td>\n",
       "    </tr>\n",
       "    <tr>\n",
       "      <th>300413</th>\n",
       "      <td>300413</td>\n",
       "      <td>1427</td>\n",
       "      <td>19083</td>\n",
       "    </tr>\n",
       "    <tr>\n",
       "      <th>314867</th>\n",
       "      <td>314867</td>\n",
       "      <td>17301</td>\n",
       "      <td>1427</td>\n",
       "    </tr>\n",
       "    <tr>\n",
       "      <th>316414</th>\n",
       "      <td>316414</td>\n",
       "      <td>1427</td>\n",
       "      <td>14546</td>\n",
       "    </tr>\n",
       "    <tr>\n",
       "      <th>319174</th>\n",
       "      <td>319174</td>\n",
       "      <td>1427</td>\n",
       "      <td>11488</td>\n",
       "    </tr>\n",
       "    <tr>\n",
       "      <th>338023</th>\n",
       "      <td>338023</td>\n",
       "      <td>1427</td>\n",
       "      <td>3651</td>\n",
       "    </tr>\n",
       "    <tr>\n",
       "      <th>348920</th>\n",
       "      <td>348920</td>\n",
       "      <td>9136</td>\n",
       "      <td>1427</td>\n",
       "    </tr>\n",
       "    <tr>\n",
       "      <th>351743</th>\n",
       "      <td>351743</td>\n",
       "      <td>1427</td>\n",
       "      <td>5648</td>\n",
       "    </tr>\n",
       "    <tr>\n",
       "      <th>352404</th>\n",
       "      <td>352404</td>\n",
       "      <td>1427</td>\n",
       "      <td>9366</td>\n",
       "    </tr>\n",
       "    <tr>\n",
       "      <th>362040</th>\n",
       "      <td>362040</td>\n",
       "      <td>5394</td>\n",
       "      <td>1427</td>\n",
       "    </tr>\n",
       "  </tbody>\n",
       "</table>\n",
       "</div>"
      ],
      "text/plain": [
       "        pairId  FirstId  SecondId\n",
       "0            0     1427      8053\n",
       "9362      9362     1427     15819\n",
       "26482    26482     1427      3846\n",
       "35238    35238     1427     12360\n",
       "52426    52426     1427     22945\n",
       "60062    60062    13829      1427\n",
       "82897    82897     1427       541\n",
       "86120    86120     1427     24669\n",
       "90175    90175     1427     17746\n",
       "94207    94207     1427      4474\n",
       "95631    95631     3467      1427\n",
       "117304  117304    22689      1427\n",
       "119611  119611     1427      2934\n",
       "127272  127272    22288      1427\n",
       "137389  137389     7797      1427\n",
       "147951  147951     1427      1209\n",
       "151784  151784     1427      3512\n",
       "155450  155450     1427      1987\n",
       "162997  162997    20558      1427\n",
       "168141  168141    14291      1427\n",
       "169240  169240     4993      1427\n",
       "185313  185313     1171      1427\n",
       "220879  220879     1427      1371\n",
       "232700  232700    11235      1427\n",
       "258928  258928    17491      1427\n",
       "262934  262934     1427     20813\n",
       "290339  290339    24420      1427\n",
       "300413  300413     1427     19083\n",
       "314867  314867    17301      1427\n",
       "316414  316414     1427     14546\n",
       "319174  319174     1427     11488\n",
       "338023  338023     1427      3651\n",
       "348920  348920     9136      1427\n",
       "351743  351743     1427      5648\n",
       "352404  352404     1427      9366\n",
       "362040  362040     5394      1427"
      ]
     },
     "execution_count": 81,
     "metadata": {},
     "output_type": "execute_result"
    }
   ],
   "source": [
    "pairs_1427"
   ]
  },
  {
   "cell_type": "code",
   "execution_count": 63,
   "metadata": {},
   "outputs": [
    {
     "data": {
      "text/plain": [
       "14.0"
      ]
     },
     "execution_count": 63,
     "metadata": {},
     "output_type": "execute_result"
    }
   ],
   "source": [
    "f.min()"
   ]
  },
  {
   "cell_type": "markdown",
   "metadata": {},
   "source": [
    "But how do we convert this feature into binary predictions? We do not have a train set to learn a model, but we have a piece of information about test set: the baseline accuracy score that you got, when submitting constant. And we also have a very strong considerations about the data generative process, so probably we will be fine even without a training set. "
   ]
  },
  {
   "cell_type": "markdown",
   "metadata": {},
   "source": [
    "We may try to choose a thresold, and set the predictions to 1, if the feature value `f` is higer than the threshold, and 0 otherwise. What threshold would you choose? "
   ]
  },
  {
   "cell_type": "markdown",
   "metadata": {},
   "source": [
    "How do we find a right threshold? Let's first examine this feature: print frequencies (or counts) of each value in the feature `f`."
   ]
  },
  {
   "cell_type": "code",
   "execution_count": 115,
   "metadata": {},
   "outputs": [
    {
     "name": "stdout",
     "output_type": "stream",
     "text": [
      "[(20.0, 183799), (14.0, 183279), (15.0, 852), (19.0, 546), (28.0, 54), (35.0, 14), (21.0, 6)]\n"
     ]
    }
   ],
   "source": [
    "# For example use `np.unique` function, check for flags\n",
    "\n",
    "print(sorted(list(zip(*np.unique(f, return_counts=True))), key=lambda x:x[1], reverse=True))"
   ]
  },
  {
   "cell_type": "code",
   "execution_count": 97,
   "metadata": {},
   "outputs": [
    {
     "data": {
      "text/plain": [
       "array([ 14.,  15.,  19.,  20.,  21.,  28.,  35.])"
      ]
     },
     "execution_count": 97,
     "metadata": {},
     "output_type": "execute_result"
    }
   ],
   "source": [
    "np.unique(f)"
   ]
  },
  {
   "cell_type": "markdown",
   "metadata": {},
   "source": [
    "Do you see how this feature clusters the pairs? Maybe you can guess a good threshold by looking at the values? \n",
    "\n",
    "In fact, in other situations it can be not that obvious, but in general to pick a threshold you only need to remember the score of your baseline submission and use this information. Do you understand why and how?  "
   ]
  },
  {
   "cell_type": "markdown",
   "metadata": {},
   "source": [
    "Choose a threshold below: "
   ]
  },
  {
   "cell_type": "code",
   "execution_count": 119,
   "metadata": {},
   "outputs": [
    {
     "data": {
      "text/plain": [
       "14.0"
      ]
     },
     "execution_count": 119,
     "metadata": {},
     "output_type": "execute_result"
    }
   ],
   "source": [
    "f[1]"
   ]
  },
  {
   "cell_type": "code",
   "execution_count": 120,
   "metadata": {},
   "outputs": [
    {
     "data": {
      "text/plain": [
       "<1x26325 sparse matrix of type '<class 'numpy.float64'>'\n",
       "\twith 21 stored elements in Compressed Sparse Row format>"
      ]
     },
     "execution_count": 120,
     "metadata": {},
     "output_type": "execute_result"
    }
   ],
   "source": [
    "rows_FirstId[1]"
   ]
  },
  {
   "cell_type": "code",
   "execution_count": 125,
   "metadata": {},
   "outputs": [
    {
     "data": {
      "text/plain": [
       "17044"
      ]
     },
     "execution_count": 125,
     "metadata": {},
     "output_type": "execute_result"
    }
   ],
   "source": [
    "test['FirstId'][1]"
   ]
  },
  {
   "cell_type": "code",
   "execution_count": 126,
   "metadata": {},
   "outputs": [
    {
     "data": {
      "text/plain": [
       "7681"
      ]
     },
     "execution_count": 126,
     "metadata": {},
     "output_type": "execute_result"
    }
   ],
   "source": [
    "test['SecondId'][1]"
   ]
  },
  {
   "cell_type": "code",
   "execution_count": 139,
   "metadata": {},
   "outputs": [
    {
     "data": {
      "text/plain": [
       "[310,\n",
       " 915,\n",
       " 2507,\n",
       " 3210,\n",
       " 4738,\n",
       " 6066,\n",
       " 6872,\n",
       " 7540,\n",
       " 7681,\n",
       " 8699,\n",
       " 8884,\n",
       " 10407,\n",
       " 10979,\n",
       " 12261,\n",
       " 13577,\n",
       " 14035,\n",
       " 17044,\n",
       " 18973,\n",
       " 20305,\n",
       " 22034,\n",
       " 24165,\n",
       " 25889]"
      ]
     },
     "execution_count": 139,
     "metadata": {},
     "output_type": "execute_result"
    }
   ],
   "source": [
    "def get_paired_values(x):\n",
    "    pairs = test[(test['FirstId'] == x) | (test['SecondId'] == x)]\n",
    "    return sorted((pairs['FirstId'].append(pairs['SecondId'])).unique())\n",
    "\n",
    "get_paired_values(17044)"
   ]
  },
  {
   "cell_type": "code",
   "execution_count": 140,
   "metadata": {},
   "outputs": [
    {
     "data": {
      "text/plain": [
       "20.0"
      ]
     },
     "execution_count": 140,
     "metadata": {},
     "output_type": "execute_result"
    }
   ],
   "source": [
    "f[0]"
   ]
  },
  {
   "cell_type": "code",
   "execution_count": 157,
   "metadata": {},
   "outputs": [],
   "source": [
    "def show_f(idx):\n",
    "    v = f[idx]\n",
    "    first_id = test['FirstId'][idx]\n",
    "    second_id = test['SecondId'][idx]\n",
    "    pairs_first = get_paired_values(first_id)\n",
    "    pairs_second = get_paired_values(second_id)\n",
    "    print(\"v: {}, first: {} ({} neighbors), second: {} ({} neighbors)\".format(v, first_id,  len(pairs_first),second_id, len(pairs_second)))\n",
    "    print(\"first: {}\".format(pairs_first))\n",
    "    print(\"second: {}\".format(pairs_second))"
   ]
  },
  {
   "cell_type": "code",
   "execution_count": 158,
   "metadata": {},
   "outputs": [],
   "source": [
    "pred = f > 16"
   ]
  },
  {
   "cell_type": "code",
   "execution_count": 159,
   "metadata": {},
   "outputs": [
    {
     "name": "stdout",
     "output_type": "stream",
     "text": [
      "v: 20.0, first: 1427 (37 neighbors), second: 8053 (37 neighbors)\n",
      "first: [541, 1171, 1209, 1371, 1427, 1987, 2934, 3467, 3512, 3651, 3846, 4474, 4993, 5394, 5648, 7797, 8053, 9136, 9366, 11235, 11488, 12360, 13829, 14291, 14546, 15819, 17301, 17491, 17746, 19083, 20558, 20813, 22288, 22689, 22945, 24420, 24669]\n",
      "second: [541, 1064, 1209, 1371, 1427, 1987, 2934, 3360, 3512, 3651, 3846, 4474, 4886, 5287, 5648, 7690, 8053, 9033, 9366, 11128, 11488, 12360, 13723, 14184, 14546, 15819, 17194, 17384, 17746, 19083, 20453, 20813, 22183, 22582, 22945, 24314, 24669]\n"
     ]
    }
   ],
   "source": [
    "show_f(0)"
   ]
  },
  {
   "cell_type": "code",
   "execution_count": 160,
   "metadata": {},
   "outputs": [
    {
     "name": "stdout",
     "output_type": "stream",
     "text": [
      "v: 14.0, first: 17044 (22 neighbors), second: 7681 (37 neighbors)\n",
      "first: [310, 915, 2507, 3210, 4738, 6066, 6872, 7540, 7681, 8699, 8884, 10407, 10979, 12261, 13577, 14035, 17044, 18973, 20305, 22034, 24165, 25889]\n",
      "second: [915, 1055, 3210, 3351, 4212, 4738, 4877, 5278, 6872, 6885, 7054, 7540, 7681, 8473, 8884, 9024, 10866, 10979, 11119, 11305, 11735, 13577, 13714, 14035, 14175, 17044, 17185, 17375, 18973, 20305, 20445, 22034, 22174, 22573, 24165, 24305, 25889]\n"
     ]
    }
   ],
   "source": [
    "show_f(1)"
   ]
  },
  {
   "cell_type": "code",
   "execution_count": 161,
   "metadata": {},
   "outputs": [
    {
     "name": "stdout",
     "output_type": "stream",
     "text": [
      "v: 20.0, first: 19237 (22 neighbors), second: 20966 (22 neighbors)\n",
      "first: [1581, 2141, 2684, 3666, 5714, 5716, 5802, 8207, 8471, 9519, 9530, 11531, 11639, 11755, 12513, 14698, 15973, 17900, 19237, 20966, 23099, 24823]\n",
      "second: [1581, 2141, 2684, 3666, 5714, 5716, 5802, 8207, 8471, 9519, 9530, 11531, 11639, 11755, 12513, 14698, 15973, 17900, 19237, 20966, 23099, 24823]\n"
     ]
    }
   ],
   "source": [
    "show_f(2)"
   ]
  },
  {
   "cell_type": "code",
   "execution_count": 162,
   "metadata": {},
   "outputs": [
    {
     "name": "stdout",
     "output_type": "stream",
     "text": [
      "v: 20.0, first: 8005 (37 neighbors), second: 20765 (22 neighbors)\n",
      "first: [273, 991, 1379, 1940, 2408, 2528, 2568, 2773, 4096, 5201, 5601, 6232, 7113, 8005, 8470, 8638, 8939, 9318, 9949, 11442, 12065, 12312, 12941, 14498, 15128, 15771, 16404, 17698, 18331, 19667, 20765, 21397, 22496, 22897, 23525, 24622, 25252]\n",
      "second: [991, 1379, 1940, 2408, 2528, 2773, 5201, 5601, 7113, 8005, 8470, 8939, 9318, 11442, 12312, 14498, 15771, 17698, 20765, 22496, 22897, 24622]\n"
     ]
    }
   ],
   "source": [
    "show_f(3)"
   ]
  },
  {
   "cell_type": "code",
   "execution_count": 163,
   "metadata": {},
   "outputs": [
    {
     "name": "stdout",
     "output_type": "stream",
     "text": [
      "v: 14.0, first: 16837 (22 neighbors), second: 599 (37 neighbors)\n",
      "first: [599, 707, 3002, 4530, 6665, 7332, 7953, 8973, 10383, 10774, 10805, 11173, 12033, 12124, 13371, 15562, 16837, 18765, 20097, 21828, 23957, 25684]\n",
      "second: [599, 707, 1826, 2894, 3002, 4422, 4530, 6558, 6665, 7224, 7332, 7914, 8209, 9024, 9352, 10275, 10383, 10668, 10774, 12004, 12129, 13264, 13371, 15454, 15562, 16729, 16837, 18657, 18765, 19991, 20097, 21721, 21828, 23849, 23957, 25577, 25684]\n"
     ]
    }
   ],
   "source": [
    "show_f(4)"
   ]
  },
  {
   "cell_type": "code",
   "execution_count": 164,
   "metadata": {},
   "outputs": [
    {
     "name": "stdout",
     "output_type": "stream",
     "text": [
      "v: 20.0, first: 3657 (37 neighbors), second: 12504 (22 neighbors)\n",
      "first: [34, 196, 506, 926, 1572, 2132, 2331, 2580, 3022, 3657, 3857, 5005, 5793, 5993, 6264, 8198, 8399, 9510, 9710, 11630, 11828, 12504, 12705, 14690, 14890, 15964, 16165, 17891, 18092, 19228, 19428, 20957, 21158, 23090, 23288, 24814, 25013]\n",
      "second: [196, 506, 926, 1572, 2132, 2580, 3022, 3657, 5005, 5793, 6264, 8198, 9510, 11630, 12504, 14690, 15964, 17891, 19228, 20957, 23090, 24814]\n"
     ]
    }
   ],
   "source": [
    "show_f(5)"
   ]
  },
  {
   "cell_type": "code",
   "execution_count": 117,
   "metadata": {},
   "outputs": [
    {
     "data": {
      "text/plain": [
       "array([ True, False,  True, ..., False, False, False], dtype=bool)"
      ]
     },
     "execution_count": 117,
     "metadata": {},
     "output_type": "execute_result"
    }
   ],
   "source": [
    "pred"
   ]
  },
  {
   "cell_type": "code",
   "execution_count": null,
   "metadata": {},
   "outputs": [],
   "source": []
  },
  {
   "cell_type": "markdown",
   "metadata": {},
   "source": [
    "# Finally, let's create a submission"
   ]
  },
  {
   "cell_type": "code",
   "execution_count": 118,
   "metadata": {},
   "outputs": [],
   "source": [
    "submission = test.loc[:,['pairId']]\n",
    "submission['Prediction'] = pred.astype(int)\n",
    "\n",
    "submission.to_csv('submission.csv', index=False)"
   ]
  },
  {
   "cell_type": "markdown",
   "metadata": {},
   "source": [
    "Now submit it to the grader! It is not possible to submit directly from this notebook, as we need to submit a `csv` file, not a single number (limitation of Coursera platform). \n",
    "\n",
    "To download `submission.csv` file that you've just produced <a href='./submission.csv'>click here</a> (if the link opens in browser, right-click on it and shoose \"Save link as\"). Then go to [assignment page](https://www.coursera.org/learn/competitive-data-science/programming/KsASv/data-leakages/submission) and submit your `.csv` file in 'My submission' tab.\n",
    "\n",
    "\n",
    "If you did everything right, the score should be very high."
   ]
  },
  {
   "cell_type": "markdown",
   "metadata": {},
   "source": [
    "**Finally:** try to explain to yourself, why the whole thing worked out. In fact, there is no magic in this feature, and the idea to use rows in the incidence matrix can be intuitively justified."
   ]
  },
  {
   "cell_type": "markdown",
   "metadata": {},
   "source": [
    "# Bonus"
   ]
  },
  {
   "cell_type": "markdown",
   "metadata": {},
   "source": [
    "Interestingly, it is not the only leak in this dataset. There is another totally different way to get almost 100% accuracy. Try to find it!"
   ]
  }
 ],
 "metadata": {
  "kernelspec": {
   "display_name": "Python 3",
   "language": "python",
   "name": "python3"
  },
  "language_info": {
   "codemirror_mode": {
    "name": "ipython",
    "version": 3
   },
   "file_extension": ".py",
   "mimetype": "text/x-python",
   "name": "python",
   "nbconvert_exporter": "python",
   "pygments_lexer": "ipython3",
   "version": "3.5.2"
  }
 },
 "nbformat": 4,
 "nbformat_minor": 2
}
